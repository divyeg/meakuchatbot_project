{
 "cells": [
  {
   "cell_type": "code",
   "execution_count": 1,
   "metadata": {},
   "outputs": [
    {
     "name": "stderr",
     "output_type": "stream",
     "text": [
      "/Users/divye/Desktop/meakuchatbot_project/meaku/lib/python3.9/site-packages/urllib3/__init__.py:35: NotOpenSSLWarning: urllib3 v2 only supports OpenSSL 1.1.1+, currently the 'ssl' module is compiled with 'LibreSSL 2.8.3'. See: https://github.com/urllib3/urllib3/issues/3020\n",
      "  warnings.warn(\n",
      "WARNING:root:USER_AGENT environment variable not set, consider setting it to identify your requests.\n"
     ]
    }
   ],
   "source": [
    "from langchain_openai import OpenAIEmbeddings\n",
    "from langchain.evaluation import load_evaluator\n",
    "from dotenv import load_dotenv\n",
    "import openai\n",
    "import os\n",
    "import time\n",
    "\n",
    "# Load environment variables. Assumes that project contains .env file with API keys\n",
    "load_dotenv(\"config.env\")\n",
    "openai.api_key = os.environ[\"OPENAI_API_KEY\"]\n",
    "\n",
    "from langchain_community.vectorstores import Chroma\n",
    "from langchain_community.embeddings import OllamaEmbeddings\n",
    "from langchain.schema import Document\n",
    "from langchain_community.document_loaders import WebBaseLoader\n",
    "from langchain.text_splitter import RecursiveCharacterTextSplitter\n",
    "from langchain_community.document_loaders import DirectoryLoader\n",
    "import shutil\n",
    "\n",
    "CHROMA_PATH = \"input_data/chroma\"\n",
    "DATA_PATH = \"input_data/\""
   ]
  },
  {
   "cell_type": "code",
   "execution_count": 2,
   "metadata": {},
   "outputs": [],
   "source": [
    "def CompareTwoWords(w1, w2):\n",
    "    # Get embedding for a word.\n",
    "    embedding_function = OpenAIEmbeddings()\n",
    "    vector = embedding_function.embed_query(w1)\n",
    "    print(f\"Vector for 'apple': {vector}\")\n",
    "    print(f\"Vector length: {len(vector)}\")\n",
    "\n",
    "    # Compare vector of two words\n",
    "    evaluator = load_evaluator(\"pairwise_embedding_distance\")\n",
    "    words = (w1, w2)\n",
    "    x = evaluator.evaluate_string_pairs(prediction=words[0], prediction_b=words[1])\n",
    "    print(f\"Comparing ({words[0]}, {words[1]}): {x}\")"
   ]
  },
  {
   "cell_type": "code",
   "execution_count": 3,
   "metadata": {},
   "outputs": [],
   "source": [
    "def load_documents():\n",
    "    loader = DirectoryLoader(DATA_PATH, glob=\"*.txt\")\n",
    "    documents = loader.load()\n",
    "    return documents"
   ]
  },
  {
   "cell_type": "code",
   "execution_count": 4,
   "metadata": {},
   "outputs": [],
   "source": [
    "import nltk\n",
    "\n",
    "# nltk.download('punkt_tab')\n",
    "# nltk.download('averaged_perceptron_tagger_eng')\n",
    "\n",
    "documents = load_documents()"
   ]
  },
  {
   "cell_type": "code",
   "execution_count": 5,
   "metadata": {},
   "outputs": [
    {
     "data": {
      "text/plain": [
       "[Document(metadata={'source': 'input_data/overview.txt'}, page_content=\"Overview\\n\\nHackerEarth is an online technical-recruitment tool that enables you to automate your hiring process to select the best fit for your team.\\n\\nUsing HackerEarth Assessment, you can create tests to evaluate candidates. By automating your recruitment process, HackerEarth Assessment saves the time and effort required to go through hundreds of resumes manually. It allows you to assess and shortlist a targeted pool of candidates who suit your requirements.\\n\\nThis article gives you an in-depth understanding of HackerEarth Assessment and its benefits. By using HackerEarth, you can streamline the recruitment process and find the perfect candidate for your team.\\n\\nWhy should you use HackerEarth Assessment?\\n\\nHackerEarth provides you with industry-leading features which are as follows:\\n\\n1. HackerEarth's rich library\\n\\nHackerEarth's library is a repository of pre-built questions that can be used to create customized tests for assessing candidates. The library contains a vast collection of questions that cover various topics across difficulty levels. The questions are designed and tested by subject matter experts and are frequently updated to ensure that they are relevant and up to industry standards.\\n\\nYou can also filter the questions by difficulty level, skills, and other criteria to create a well-balanced test that accurately evaluates a candidate's skills.\\n\\nIn addition to the pre-built questions, the library also includes coding challenges that can be used to evaluate a candidate's coding skills in a real-world scenario. These challenges are designed to simulate the challenges that developers face in their day-to-day work, giving you a better idea of a candidate's ability to handle real-world situations.\\n\\nOverall, HackerEarth's rich library is a valuable resource for recruiters and hiring managers who are looking to create customized tests that accurately assess a candidate's skills. With its vast collection of pre-built questions and coding challenges, the library can help you streamline the recruitment process and identify the best candidates for your organization.\\n\\n2. Increase the number of candidates assessed\\n\\nHackerEarth Assessment is designed to help you assess a large pool of candidates in a concise span of time. This means that you can quickly filter through a high volume of resumes and identify the best fit for your team. With HackerEarth Assessment, you can increase the number of candidates you assess, which can help you find the perfect candidate for your organization. This is particularly useful when you have multiple positions to fill or when you are looking to scale your team quickly. By automating the recruitment process, HackerEarth Assessment saves you time and effort and enables you to assess more candidates efficiently. This not only helps you find the right candidate faster but also ensures that you don't miss out on any potential hires.\\n\\n3. Diverse platform\\n\\nHackerEarth Assessment is a versatile platform that allows you to assess candidates in over 38 different programming languages. This feature makes it easier for you to find candidates with the specific technical skills that your organization needs. The diverse platform also includes a range of question types and difficulty levels, enabling you to create customized tests that accurately assess a candidate's skills. Additionally, you can upload your own questions to create a tailor-made test that meets your specific requirements. The diverse platform ensures that candidates are evaluated based on their technical skills, making it easier for you to identify the right fit for your team.\\n\\n4. Advanced proctoring settings for assessments\\n\\nAdvanced proctoring settings for assessments ensure that the tests are conducted in a fair and unbiased manner. HackerEarth Assessment provides best-in-class proctoring mechanisms to prevent cheating and ensure the integrity of the tests. These mechanisms include features such as webcam monitoring, screen recording, and keystroke tracking.\\n\\nWebcam monitoring allows you to monitor the candidate's actions during the test. This ensures that the candidate is not looking at external resources, talking to someone else, or using any other unfair means during the test. The screen recording feature captures the candidate's screen activity during the test. This helps you identify any suspicious activity or unauthorized software usage. Keystroke tracking records the keystrokes made by the candidate during the test. This feature helps you identify any suspicious activity or unauthorized software usage.\\n\\nOverall, advanced proctoring settings ensure that the tests are conducted in a fair and unbiased manner, enabling you to identify the best fit for your team.\\n\\n5. Reports and analytics\\n\\nHackerEarth Assessment also offers detailed reports and analytics. These reports give you an insight into each candidate's performance based on various test metrics, including accuracy, speed, and efficiency. You can use this data to identify the strengths and weaknesses of each candidate and make informed hiring decisions.\\n\\nMoreover, HackerEarth Assessment provides smart analytics around usage and recruitment activity to help you make necessary decisions for future recruitment needs. This includes information on the number of tests taken, test completion rates, and candidate performance trends. With this data, you can easily track the effectiveness of your recruitment process and identify areas for improvement.\\n\\n6. Dedicated account manager and product specialist available 24/7\\n\\nHackerEarth Assessment offers exceptional service for its assessments, with a dedicated account manager and product specialist available 24/7 to assist with any technical issues. This guarantees a smooth and hassle-free experience while utilizing the platform to find the ideal candidate for your team.\\n\\nTo know more about how HackerEarth Assessment helped organizations in hiring effectively, click here.\\n\\nWhat are the advantages of using HackerEarth Assessment?\\n\\nThere are various advantages of using HackerEarth assessments which are as follows:\\n\\nEnables remote recruitment drives across multiple locations for seamless scaling\\n\\nReduces manual effort and time to conduct technical assessments by automating the recruitment process\\n\\nCreates customized tests in minutes\\n\\nAssesses candidates in 38 different programming languages\\n\\nGenerates tests automatically from a well-curated library of questions specially designed to test technical candidates\\n\\nEvaluates tests automatically to shortlist the best candidates\\n\\nProvides best-in-class proctoring mechanisms to ensure fair assessments\\n\\nEvaluate a candidate's programming, problem-solving, and analytical skills and provide a detailed report on their performance to make informed hiring decisions\\n\\nScreens the best candidates using the auto-ranking mechanism and performance-based filters\\n\\nProvides reliable customer service to handle unforeseen technical challenges\")]"
      ]
     },
     "execution_count": 5,
     "metadata": {},
     "output_type": "execute_result"
    }
   ],
   "source": [
    "documents"
   ]
  },
  {
   "cell_type": "code",
   "execution_count": 6,
   "metadata": {},
   "outputs": [
    {
     "name": "stdout",
     "output_type": "stream",
     "text": [
      "Length of chunks = 10\n"
     ]
    }
   ],
   "source": [
    "text_splitter = RecursiveCharacterTextSplitter(\n",
    "    chunk_size=800,\n",
    "    chunk_overlap=40,\n",
    "    length_function=len,\n",
    "    is_separator_regex=False,\n",
    ")\n",
    "\n",
    "chunks = text_splitter.split_documents(documents)\n",
    "print(f\"Length of chunks = {len(chunks)}\")"
   ]
  },
  {
   "cell_type": "code",
   "execution_count": 7,
   "metadata": {},
   "outputs": [
    {
     "data": {
      "text/plain": [
       "['Overview\\n\\nHackerEarth is an online technical-recruitment tool that enables you to automate your hiring process to select the best fit for your team.\\n\\nUsing HackerEarth Assessment, you can create tests to evaluate candidates. By automating your recruitment process, HackerEarth Assessment saves the time and effort required to go through hundreds of resumes manually. It allows you to assess and shortlist a targeted pool of candidates who suit your requirements.\\n\\nThis article gives you an in-depth understanding of HackerEarth Assessment and its benefits. By using HackerEarth, you can streamline the recruitment process and find the perfect candidate for your team.\\n\\nWhy should you use HackerEarth Assessment?\\n\\nHackerEarth provides you with industry-leading features which are as follows:',\n",
       " \"1. HackerEarth's rich library\\n\\nHackerEarth's library is a repository of pre-built questions that can be used to create customized tests for assessing candidates. The library contains a vast collection of questions that cover various topics across difficulty levels. The questions are designed and tested by subject matter experts and are frequently updated to ensure that they are relevant and up to industry standards.\\n\\nYou can also filter the questions by difficulty level, skills, and other criteria to create a well-balanced test that accurately evaluates a candidate's skills.\",\n",
       " \"In addition to the pre-built questions, the library also includes coding challenges that can be used to evaluate a candidate's coding skills in a real-world scenario. These challenges are designed to simulate the challenges that developers face in their day-to-day work, giving you a better idea of a candidate's ability to handle real-world situations.\\n\\nOverall, HackerEarth's rich library is a valuable resource for recruiters and hiring managers who are looking to create customized tests that accurately assess a candidate's skills. With its vast collection of pre-built questions and coding challenges, the library can help you streamline the recruitment process and identify the best candidates for your organization.\\n\\n2. Increase the number of candidates assessed\",\n",
       " \"HackerEarth Assessment is designed to help you assess a large pool of candidates in a concise span of time. This means that you can quickly filter through a high volume of resumes and identify the best fit for your team. With HackerEarth Assessment, you can increase the number of candidates you assess, which can help you find the perfect candidate for your organization. This is particularly useful when you have multiple positions to fill or when you are looking to scale your team quickly. By automating the recruitment process, HackerEarth Assessment saves you time and effort and enables you to assess more candidates efficiently. This not only helps you find the right candidate faster but also ensures that you don't miss out on any potential hires.\\n\\n3. Diverse platform\",\n",
       " \"3. Diverse platform\\n\\nHackerEarth Assessment is a versatile platform that allows you to assess candidates in over 38 different programming languages. This feature makes it easier for you to find candidates with the specific technical skills that your organization needs. The diverse platform also includes a range of question types and difficulty levels, enabling you to create customized tests that accurately assess a candidate's skills. Additionally, you can upload your own questions to create a tailor-made test that meets your specific requirements. The diverse platform ensures that candidates are evaluated based on their technical skills, making it easier for you to identify the right fit for your team.\\n\\n4. Advanced proctoring settings for assessments\",\n",
       " 'Advanced proctoring settings for assessments ensure that the tests are conducted in a fair and unbiased manner. HackerEarth Assessment provides best-in-class proctoring mechanisms to prevent cheating and ensure the integrity of the tests. These mechanisms include features such as webcam monitoring, screen recording, and keystroke tracking.',\n",
       " \"Webcam monitoring allows you to monitor the candidate's actions during the test. This ensures that the candidate is not looking at external resources, talking to someone else, or using any other unfair means during the test. The screen recording feature captures the candidate's screen activity during the test. This helps you identify any suspicious activity or unauthorized software usage. Keystroke tracking records the keystrokes made by the candidate during the test. This feature helps you identify any suspicious activity or unauthorized software usage.\\n\\nOverall, advanced proctoring settings ensure that the tests are conducted in a fair and unbiased manner, enabling you to identify the best fit for your team.\\n\\n5. Reports and analytics\",\n",
       " \"5. Reports and analytics\\n\\nHackerEarth Assessment also offers detailed reports and analytics. These reports give you an insight into each candidate's performance based on various test metrics, including accuracy, speed, and efficiency. You can use this data to identify the strengths and weaknesses of each candidate and make informed hiring decisions.\\n\\nMoreover, HackerEarth Assessment provides smart analytics around usage and recruitment activity to help you make necessary decisions for future recruitment needs. This includes information on the number of tests taken, test completion rates, and candidate performance trends. With this data, you can easily track the effectiveness of your recruitment process and identify areas for improvement.\",\n",
       " '6. Dedicated account manager and product specialist available 24/7\\n\\nHackerEarth Assessment offers exceptional service for its assessments, with a dedicated account manager and product specialist available 24/7 to assist with any technical issues. This guarantees a smooth and hassle-free experience while utilizing the platform to find the ideal candidate for your team.\\n\\nTo know more about how HackerEarth Assessment helped organizations in hiring effectively, click here.\\n\\nWhat are the advantages of using HackerEarth Assessment?\\n\\nThere are various advantages of using HackerEarth assessments which are as follows:\\n\\nEnables remote recruitment drives across multiple locations for seamless scaling',\n",
       " \"Reduces manual effort and time to conduct technical assessments by automating the recruitment process\\n\\nCreates customized tests in minutes\\n\\nAssesses candidates in 38 different programming languages\\n\\nGenerates tests automatically from a well-curated library of questions specially designed to test technical candidates\\n\\nEvaluates tests automatically to shortlist the best candidates\\n\\nProvides best-in-class proctoring mechanisms to ensure fair assessments\\n\\nEvaluate a candidate's programming, problem-solving, and analytical skills and provide a detailed report on their performance to make informed hiring decisions\\n\\nScreens the best candidates using the auto-ranking mechanism and performance-based filters\\n\\nProvides reliable customer service to handle unforeseen technical challenges\"]"
      ]
     },
     "execution_count": 7,
     "metadata": {},
     "output_type": "execute_result"
    }
   ],
   "source": [
    "[d.page_content for d in chunks]"
   ]
  },
  {
   "cell_type": "code",
   "execution_count": 8,
   "metadata": {},
   "outputs": [],
   "source": [
    "def calculate_chunk_ids(chunks):\n",
    "\n",
    "    # This will create IDs like \"data/monopoly.pdf:6:2\"\n",
    "    # Page Source : Page Number : Chunk Index\n",
    "\n",
    "    last_page_id = None\n",
    "    current_chunk_index = 0\n",
    "\n",
    "    for chunk in chunks:\n",
    "        source = chunk.metadata.get(\"source\")\n",
    "        page = chunk.metadata.get(\"page\")\n",
    "        current_page_id = f\"{source}:{page}\"\n",
    "\n",
    "        # If the page ID is the same as the last one, increment the index.\n",
    "        if current_page_id == last_page_id:\n",
    "            current_chunk_index += 1\n",
    "        else:\n",
    "            current_chunk_index = 0\n",
    "\n",
    "        # Calculate the chunk ID.\n",
    "        chunk_id = f\"{current_page_id}:{current_chunk_index}\"\n",
    "        last_page_id = current_page_id\n",
    "\n",
    "        # Add it to the page meta-data.\n",
    "        chunk.metadata[\"id\"] = chunk_id\n",
    "\n",
    "    return chunks"
   ]
  },
  {
   "cell_type": "code",
   "execution_count": 9,
   "metadata": {},
   "outputs": [],
   "source": [
    "# Clear out the database first.\n",
    "# if os.path.exists(CHROMA_PATH):\n",
    "#     shutil.rmtree(CHROMA_PATH)"
   ]
  },
  {
   "cell_type": "code",
   "execution_count": 10,
   "metadata": {},
   "outputs": [
    {
     "name": "stderr",
     "output_type": "stream",
     "text": [
      "/Users/divye/Desktop/meakuchatbot_project/meaku/lib/python3.9/site-packages/langchain_core/_api/deprecation.py:139: LangChainDeprecationWarning: The class `HuggingFaceEmbeddings` was deprecated in LangChain 0.2.2 and will be removed in 0.3.0. An updated version of the class exists in the langchain-huggingface package and should be used instead. To use it run `pip install -U langchain-huggingface` and import as `from langchain_huggingface import HuggingFaceEmbeddings`.\n",
      "  warn_deprecated(\n",
      "/Users/divye/Desktop/meakuchatbot_project/meaku/lib/python3.9/site-packages/sentence_transformers/cross_encoder/CrossEncoder.py:11: TqdmExperimentalWarning: Using `tqdm.autonotebook.tqdm` in notebook mode. Use `tqdm.tqdm` instead to force console mode (e.g. in jupyter console)\n",
      "  from tqdm.autonotebook import tqdm, trange\n",
      "/Users/divye/Desktop/meakuchatbot_project/meaku/lib/python3.9/site-packages/transformers/tokenization_utils_base.py:1601: FutureWarning: `clean_up_tokenization_spaces` was not set. It will be set to `True` by default. This behavior will be depracted in transformers v4.45, and will be then set to `False` by default. For more details check this issue: https://github.com/huggingface/transformers/issues/31884\n",
      "  warnings.warn(\n"
     ]
    },
    {
     "name": "stdout",
     "output_type": "stream",
     "text": [
      "Number of existing documents in DB: 0\n",
      "Adding new documents: 10\n",
      "Saved 10 chunks to input_data/chroma.\n"
     ]
    },
    {
     "name": "stderr",
     "output_type": "stream",
     "text": [
      "/Users/divye/Desktop/meakuchatbot_project/meaku/lib/python3.9/site-packages/langchain_core/_api/deprecation.py:139: LangChainDeprecationWarning: Since Chroma 0.4.x the manual persistence method is no longer supported as docs are automatically persisted.\n",
      "  warn_deprecated(\n"
     ]
    }
   ],
   "source": [
    "from langchain_community.embeddings import HuggingFaceEmbeddings\n",
    "\n",
    "embedder = HuggingFaceEmbeddings(model_name=\"sentence-transformers/all-MiniLM-L6-v2\")\n",
    "\n",
    "db = Chroma(persist_directory=CHROMA_PATH, embedding_function=embedder)\n",
    "\n",
    "last_request_time = 0\n",
    "RATE_LIMIT_INTERVAL = 10\n",
    "\n",
    "chunks_with_ids = calculate_chunk_ids(chunks)\n",
    "\n",
    "# Add or Update the documents.\n",
    "existing_items = db.get(include=[])  # IDs are always included by default\n",
    "existing_ids = set(existing_items[\"ids\"])\n",
    "print(f\"Number of existing documents in DB: {len(existing_ids)}\")\n",
    "\n",
    "# Only add documents that don't exist in the DB.\n",
    "new_chunks = []\n",
    "for chunk in chunks_with_ids:\n",
    "    if chunk.metadata[\"id\"] not in existing_ids:\n",
    "        new_chunks.append(chunk)\n",
    "\n",
    "if len(new_chunks):\n",
    "    print(f\"Adding new documents: {len(new_chunks)}\")\n",
    "    new_chunk_ids = [chunk.metadata[\"id\"] for chunk in new_chunks]\n",
    "    db.add_documents(new_chunks, ids=new_chunk_ids)\n",
    "    db.persist()\n",
    "else:\n",
    "    print(\"No new documents to add\")\n",
    "\n",
    "# for i, chunk in enumerate(chunks):\n",
    "#     print(i)\n",
    "#     current_time = time.time()\n",
    "#     if current_time - last_request_time < RATE_LIMIT_INTERVAL:\n",
    "#         time.sleep(RATE_LIMIT_INTERVAL - (current_time - last_request_time))\n",
    "#     last_request_time = current_time\n",
    "#     # Create a new DB from the documents.\n",
    "#     max_retries = 2\n",
    "#     for attempt in range(max_retries):\n",
    "#         try:\n",
    "#             db = Chroma.from_documents(\n",
    "#                 [chunk], embedder, persist_directory=CHROMA_PATH\n",
    "#                 )\n",
    "#         except Exception as e:\n",
    "#             if attempt == max_retries - 1:\n",
    "#                 raise e\n",
    "#             time.sleep(1 * (2**attempt))\n",
    "\n",
    "# db.persist()\n",
    "\n",
    "print(f\"Saved {len(chunks)} chunks to {CHROMA_PATH}.\")"
   ]
  },
  {
   "cell_type": "code",
   "execution_count": 11,
   "metadata": {},
   "outputs": [
    {
     "name": "stdout",
     "output_type": "stream",
     "text": [
      "[(Document(metadata={'id': 'input_data/overview.txt:None:3', 'source': 'input_data/overview.txt'}, page_content=\"HackerEarth Assessment is designed to help you assess a large pool of candidates in a concise span of time. This means that you can quickly filter through a high volume of resumes and identify the best fit for your team. With HackerEarth Assessment, you can increase the number of candidates you assess, which can help you find the perfect candidate for your organization. This is particularly useful when you have multiple positions to fill or when you are looking to scale your team quickly. By automating the recruitment process, HackerEarth Assessment saves you time and effort and enables you to assess more candidates efficiently. This not only helps you find the right candidate faster but also ensures that you don't miss out on any potential hires.\\n\\n3. Diverse platform\"), 0.5475894099918224), (Document(metadata={'id': 'input_data/overview.txt:None:5', 'source': 'input_data/overview.txt'}, page_content='Advanced proctoring settings for assessments ensure that the tests are conducted in a fair and unbiased manner. HackerEarth Assessment provides best-in-class proctoring mechanisms to prevent cheating and ensure the integrity of the tests. These mechanisms include features such as webcam monitoring, screen recording, and keystroke tracking.'), 0.6227305094013628), (Document(metadata={'id': 'input_data/overview.txt:None:8', 'source': 'input_data/overview.txt'}, page_content='6. Dedicated account manager and product specialist available 24/7\\n\\nHackerEarth Assessment offers exceptional service for its assessments, with a dedicated account manager and product specialist available 24/7 to assist with any technical issues. This guarantees a smooth and hassle-free experience while utilizing the platform to find the ideal candidate for your team.\\n\\nTo know more about how HackerEarth Assessment helped organizations in hiring effectively, click here.\\n\\nWhat are the advantages of using HackerEarth Assessment?\\n\\nThere are various advantages of using HackerEarth assessments which are as follows:\\n\\nEnables remote recruitment drives across multiple locations for seamless scaling'), 0.6585761507721013), (Document(metadata={'id': 'input_data/overview.txt:None:7', 'source': 'input_data/overview.txt'}, page_content=\"5. Reports and analytics\\n\\nHackerEarth Assessment also offers detailed reports and analytics. These reports give you an insight into each candidate's performance based on various test metrics, including accuracy, speed, and efficiency. You can use this data to identify the strengths and weaknesses of each candidate and make informed hiring decisions.\\n\\nMoreover, HackerEarth Assessment provides smart analytics around usage and recruitment activity to help you make necessary decisions for future recruitment needs. This includes information on the number of tests taken, test completion rates, and candidate performance trends. With this data, you can easily track the effectiveness of your recruitment process and identify areas for improvement.\"), 0.6879103271029157), (Document(metadata={'id': 'input_data/overview.txt:None:0', 'source': 'input_data/overview.txt'}, page_content='Overview\\n\\nHackerEarth is an online technical-recruitment tool that enables you to automate your hiring process to select the best fit for your team.\\n\\nUsing HackerEarth Assessment, you can create tests to evaluate candidates. By automating your recruitment process, HackerEarth Assessment saves the time and effort required to go through hundreds of resumes manually. It allows you to assess and shortlist a targeted pool of candidates who suit your requirements.\\n\\nThis article gives you an in-depth understanding of HackerEarth Assessment and its benefits. By using HackerEarth, you can streamline the recruitment process and find the perfect candidate for your team.\\n\\nWhy should you use HackerEarth Assessment?\\n\\nHackerEarth provides you with industry-leading features which are as follows:'), 0.693050970874615)]\n"
     ]
    }
   ],
   "source": [
    "# Query the RAG\n",
    "query_text = \"Why should you use HackerEarth Assessment?\"\n",
    "\n",
    "embedding_function = embedder\n",
    "db = Chroma(persist_directory=CHROMA_PATH, embedding_function=embedding_function)\n",
    "\n",
    "# Search the DB.\n",
    "results = db.similarity_search_with_score(query_text, k=5)\n",
    "print(results)"
   ]
  },
  {
   "cell_type": "code",
   "execution_count": 12,
   "metadata": {},
   "outputs": [
    {
     "name": "stderr",
     "output_type": "stream",
     "text": [
      "/Users/divye/Desktop/meakuchatbot_project/meaku/lib/python3.9/site-packages/langchain_core/_api/deprecation.py:139: LangChainDeprecationWarning: The method `BaseLLM.__call__` was deprecated in langchain-core 0.1.7 and will be removed in 0.3.0. Use invoke instead.\n",
      "  warn_deprecated(\n"
     ]
    },
    {
     "name": "stdout",
     "output_type": "stream",
     "text": [
      "Response: You should use HackerEarth Assessment because it offers a variety of programming challenges that cater to different levels of experience and skill.\n",
      "\n",
      "Here are some reasons why you should consider using HackerEarth Assessment:\n",
      "\n",
      "1. Real-world problems: HackerEarth provides a wide range of coding challenges that simulate real-world problems, such as optimizing website performance, building mobile applications, and developing algorithms for data mining and machine learning.\n",
      "\n",
      "2. Difficulty level: HackerEarth assessments vary in difficulty level from beginner to advanced levels. This allows you to select an assessment that matches your skill level and experience.\n",
      "\n",
      "3. Accessibility: HackerEarth is accessible from anywhere with internet access, making it convenient for students who are studying remotely or who have other work commitments.\n",
      "\n",
      "4. Collaboration: HackerEarth provides a collaborative platform where students can submit their coding challenges in real-time, allowing them to collaborate with their peers and receive feedback on their coding solutions.\n",
      "\n",
      "In conclusion, HackerEarth Assessment is an excellent resource that offers a variety of programming challenges that simulate real-world problems, cater to different levels of experience and skill, accessibility, collaboration, and more. Therefore, if you are looking for opportunities to develop your programming skills, HackerEarth Assessment is definitely worth considering as an excellent platform to submit your coding challenges in real-time.\n"
     ]
    }
   ],
   "source": [
    "from langchain.prompts import ChatPromptTemplate\n",
    "from langchain_community.llms.ollama import Ollama\n",
    "\n",
    "PROMPT_TEMPLATE = \"\"\"\n",
    "Answer the question based only on the following question:\n",
    "\n",
    "{question}\n",
    "\"\"\"\n",
    "\n",
    "prompt_template = ChatPromptTemplate.from_template(PROMPT_TEMPLATE)\n",
    "prompt = prompt_template.format(question=query_text)\n",
    "# print(prompt)\n",
    "\n",
    "# model = Ollama(base_url='http://192.168.0.200:11434', model=\"qwen:1.8b\")\n",
    "model = Ollama(base_url=\"http://localhost:11434\", model=\"qwen:1.8b\")\n",
    "response_text = model(prompt)\n",
    "\n",
    "# sources = [doc.metadata.get(\"id\", None) for doc, _score in results]\n",
    "formatted_response = f\"Response: {response_text}\"\n",
    "print(formatted_response)"
   ]
  },
  {
   "cell_type": "code",
   "execution_count": 13,
   "metadata": {},
   "outputs": [
    {
     "name": "stdout",
     "output_type": "stream",
     "text": [
      "Response: HackerEarth Assessments provide several advantages for organizations seeking to streamline their recruitment processes and find the perfect candidate for their team.\n",
      "\n",
      "  1. Industry- Leading Features: HackerEarth Assessments offer industry-leading features that are designed to streamline recruitment processes, reduce time spent reviewing resumes, and identify the best candidates for a company's team.\n",
      "  \n",
      "  2. Automated Recruitment Process: HackerEarth Assessments provide an automated recruitment process that allows organizations to shortlist potential candidates based on their specific requirements and preferences.\n",
      "  \n",
      "  3. Candidate Matching: HackerEarth Assessments provide candidate matching capabilities that allow organizations to quickly identify and shortlist potential candidates based on their specific requirements, preferences, and experience levels.\n",
      "  \n",
      "\n",
      "Therefore, using HackerEarth Assessments provides several advantages for organizations seeking to streamline their recruitment processes, reduce time spent reviewing resumes, and identify the best candidates for a company's team.\n",
      "Sources: ['input_data/overview.txt:None:3', 'input_data/overview.txt:None:5', 'input_data/overview.txt:None:8', 'input_data/overview.txt:None:7', 'input_data/overview.txt:None:0']\n"
     ]
    }
   ],
   "source": [
    "from langchain.prompts import ChatPromptTemplate\n",
    "from langchain_community.llms.ollama import Ollama\n",
    "\n",
    "context_text = \"\\n\\n---\\n\\n\".join([doc.page_content for doc, _score in results])\n",
    "\n",
    "\n",
    "RAG_PROMPT_TEMPLATE = \"\"\"\n",
    "Answer the question based on the following context:\n",
    "\n",
    "{context}\n",
    "\n",
    "---\n",
    "\n",
    "Answer the question based on the above context: {question}\n",
    "Do not repeat any information and be precise in your response.\n",
    "\"\"\"\n",
    "\n",
    "prompt_template = ChatPromptTemplate.from_template(RAG_PROMPT_TEMPLATE)\n",
    "prompt = prompt_template.format(context=context_text, question=query_text)\n",
    "# print(prompt)\n",
    "\n",
    "# model = Ollama(model=\"mistral\")\n",
    "model = Ollama(base_url=\"http://localhost:11434\", model=\"qwen:1.8b\")\n",
    "response_text = model(prompt)\n",
    "\n",
    "sources = [doc.metadata.get(\"id\", None) for doc, _score in results]\n",
    "formatted_response = f\"Response: {response_text}\\nSources: {sources}\"\n",
    "print(formatted_response)"
   ]
  },
  {
   "cell_type": "code",
   "execution_count": 14,
   "metadata": {},
   "outputs": [
    {
     "name": "stdout",
     "output_type": "stream",
     "text": [
      "HackerEarth Assessment is designed to help you assess a large pool of candidates in a concise span of time. This means that you can quickly filter through a high volume of resumes and identify the best fit for your team. With HackerEarth Assessment, you can increase the number of candidates you assess, which can help you find the perfect candidate for your organization. This is particularly useful when you have multiple positions to fill or when you are looking to scale your team quickly. By automating the recruitment process, HackerEarth Assessment saves you time and effort and enables you to assess more candidates efficiently. This not only helps you find the right candidate faster but also ensures that you don't miss out on any potential hires.\n",
      "\n",
      "3. Diverse platform\n",
      "\n",
      "---\n",
      "\n",
      "Advanced proctoring settings for assessments ensure that the tests are conducted in a fair and unbiased manner. HackerEarth Assessment provides best-in-class proctoring mechanisms to prevent cheating and ensure the integrity of the tests. These mechanisms include features such as webcam monitoring, screen recording, and keystroke tracking.\n",
      "\n",
      "---\n",
      "\n",
      "6. Dedicated account manager and product specialist available 24/7\n",
      "\n",
      "HackerEarth Assessment offers exceptional service for its assessments, with a dedicated account manager and product specialist available 24/7 to assist with any technical issues. This guarantees a smooth and hassle-free experience while utilizing the platform to find the ideal candidate for your team.\n",
      "\n",
      "To know more about how HackerEarth Assessment helped organizations in hiring effectively, click here.\n",
      "\n",
      "What are the advantages of using HackerEarth Assessment?\n",
      "\n",
      "There are various advantages of using HackerEarth assessments which are as follows:\n",
      "\n",
      "Enables remote recruitment drives across multiple locations for seamless scaling\n",
      "\n",
      "---\n",
      "\n",
      "5. Reports and analytics\n",
      "\n",
      "HackerEarth Assessment also offers detailed reports and analytics. These reports give you an insight into each candidate's performance based on various test metrics, including accuracy, speed, and efficiency. You can use this data to identify the strengths and weaknesses of each candidate and make informed hiring decisions.\n",
      "\n",
      "Moreover, HackerEarth Assessment provides smart analytics around usage and recruitment activity to help you make necessary decisions for future recruitment needs. This includes information on the number of tests taken, test completion rates, and candidate performance trends. With this data, you can easily track the effectiveness of your recruitment process and identify areas for improvement.\n",
      "\n",
      "---\n",
      "\n",
      "Overview\n",
      "\n",
      "HackerEarth is an online technical-recruitment tool that enables you to automate your hiring process to select the best fit for your team.\n",
      "\n",
      "Using HackerEarth Assessment, you can create tests to evaluate candidates. By automating your recruitment process, HackerEarth Assessment saves the time and effort required to go through hundreds of resumes manually. It allows you to assess and shortlist a targeted pool of candidates who suit your requirements.\n",
      "\n",
      "This article gives you an in-depth understanding of HackerEarth Assessment and its benefits. By using HackerEarth, you can streamline the recruitment process and find the perfect candidate for your team.\n",
      "\n",
      "Why should you use HackerEarth Assessment?\n",
      "\n",
      "HackerEarth provides you with industry-leading features which are as follows:\n"
     ]
    }
   ],
   "source": [
    "print(context_text)"
   ]
  },
  {
   "cell_type": "code",
   "execution_count": 15,
   "metadata": {},
   "outputs": [],
   "source": [
    "# embeddings = OllamaEmbeddings(\n",
    "#     base_url=\"http://192.168.0.200:11434\", model=\"nomic-embed-text\"\n",
    "# )"
   ]
  }
 ],
 "metadata": {
  "kernelspec": {
   "display_name": "meaku",
   "language": "python",
   "name": "python3"
  },
  "language_info": {
   "codemirror_mode": {
    "name": "ipython",
    "version": 3
   },
   "file_extension": ".py",
   "mimetype": "text/x-python",
   "name": "python",
   "nbconvert_exporter": "python",
   "pygments_lexer": "ipython3",
   "version": "3.9.6"
  }
 },
 "nbformat": 4,
 "nbformat_minor": 2
}
