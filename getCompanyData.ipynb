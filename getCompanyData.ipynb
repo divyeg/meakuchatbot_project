{
 "cells": [
  {
   "cell_type": "code",
   "execution_count": 1,
   "metadata": {},
   "outputs": [
    {
     "name": "stderr",
     "output_type": "stream",
     "text": [
      "/Users/divye/Desktop/MeakuChatBot/meaku/lib/python3.9/site-packages/urllib3/__init__.py:35: NotOpenSSLWarning: urllib3 v2 only supports OpenSSL 1.1.1+, currently the 'ssl' module is compiled with 'LibreSSL 2.8.3'. See: https://github.com/urllib3/urllib3/issues/3020\n",
      "  warnings.warn(\n"
     ]
    }
   ],
   "source": [
    "from bs4 import BeautifulSoup\n",
    "import pandas as pd\n",
    "import requests\n",
    "\n",
    "# from selenium import webdriver\n",
    "import re\n",
    "from loguru import logger"
   ]
  },
  {
   "cell_type": "code",
   "execution_count": 3,
   "metadata": {},
   "outputs": [
    {
     "data": {
      "text/plain": [
       "(1369, 2)"
      ]
     },
     "execution_count": 3,
     "metadata": {},
     "output_type": "execute_result"
    }
   ],
   "source": [
    "html_pages = pd.read_csv(\"input_data/html_tags.csv\")\n",
    "html_pages.drop_duplicates(keep=\"first\", inplace=True)\n",
    "html_pages.shape"
   ]
  },
  {
   "cell_type": "code",
   "execution_count": 8,
   "metadata": {},
   "outputs": [
    {
     "data": {
      "text/html": [
       "<div>\n",
       "<style scoped>\n",
       "    .dataframe tbody tr th:only-of-type {\n",
       "        vertical-align: middle;\n",
       "    }\n",
       "\n",
       "    .dataframe tbody tr th {\n",
       "        vertical-align: top;\n",
       "    }\n",
       "\n",
       "    .dataframe thead th {\n",
       "        text-align: right;\n",
       "    }\n",
       "</style>\n",
       "<table border=\"1\" class=\"dataframe\">\n",
       "  <thead>\n",
       "    <tr style=\"text-align: right;\">\n",
       "      <th></th>\n",
       "      <th>text</th>\n",
       "      <th>href</th>\n",
       "    </tr>\n",
       "  </thead>\n",
       "  <tbody>\n",
       "    <tr>\n",
       "      <th>0</th>\n",
       "      <td>Go to Customer Portal</td>\n",
       "      <td>https://help.hackerearth.com/success</td>\n",
       "    </tr>\n",
       "    <tr>\n",
       "      <th>1</th>\n",
       "      <td>NaN</td>\n",
       "      <td>https://www.hackerearth.com/</td>\n",
       "    </tr>\n",
       "    <tr>\n",
       "      <th>2</th>\n",
       "      <td>Hackathons</td>\n",
       "      <td>https://www.hackerearth.com/recruit/hackathons/</td>\n",
       "    </tr>\n",
       "    <tr>\n",
       "      <th>3</th>\n",
       "      <td>Assessments</td>\n",
       "      <td>https://www.hackerearth.com/recruit/</td>\n",
       "    </tr>\n",
       "    <tr>\n",
       "      <th>4</th>\n",
       "      <td>FaceCode</td>\n",
       "      <td>https://www.hackerearth.com/recruit/facecode/</td>\n",
       "    </tr>\n",
       "    <tr>\n",
       "      <th>5</th>\n",
       "      <td>For Tech Recruiters</td>\n",
       "      <td>https://www.hackerearth.com/recruit/tech-recru...</td>\n",
       "    </tr>\n",
       "    <tr>\n",
       "      <th>6</th>\n",
       "      <td>For Hiring Managers</td>\n",
       "      <td>https://www.hackerearth.com/recruit/hiring-man...</td>\n",
       "    </tr>\n",
       "    <tr>\n",
       "      <th>7</th>\n",
       "      <td>Remote Hiring</td>\n",
       "      <td>https://www.hackerearth.com/recruit/remote-hir...</td>\n",
       "    </tr>\n",
       "    <tr>\n",
       "      <th>8</th>\n",
       "      <td>Learning and Development</td>\n",
       "      <td>https://www.hackerearth.com/recruit/learning-a...</td>\n",
       "    </tr>\n",
       "    <tr>\n",
       "      <th>9</th>\n",
       "      <td>University hiring</td>\n",
       "      <td>https://www.hackerearth.com/recruit/university...</td>\n",
       "    </tr>\n",
       "  </tbody>\n",
       "</table>\n",
       "</div>"
      ],
      "text/plain": [
       "                       text                                               href\n",
       "0     Go to Customer Portal               https://help.hackerearth.com/success\n",
       "1                       NaN                       https://www.hackerearth.com/\n",
       "2                Hackathons    https://www.hackerearth.com/recruit/hackathons/\n",
       "3               Assessments               https://www.hackerearth.com/recruit/\n",
       "4                  FaceCode      https://www.hackerearth.com/recruit/facecode/\n",
       "5       For Tech Recruiters  https://www.hackerearth.com/recruit/tech-recru...\n",
       "6       For Hiring Managers  https://www.hackerearth.com/recruit/hiring-man...\n",
       "7             Remote Hiring  https://www.hackerearth.com/recruit/remote-hir...\n",
       "8  Learning and Development  https://www.hackerearth.com/recruit/learning-a...\n",
       "9         University hiring  https://www.hackerearth.com/recruit/university..."
      ]
     },
     "execution_count": 8,
     "metadata": {},
     "output_type": "execute_result"
    }
   ],
   "source": [
    "html_pages.head(10)"
   ]
  },
  {
   "cell_type": "code",
   "execution_count": 9,
   "metadata": {},
   "outputs": [
    {
     "data": {
      "text/html": [
       "<div>\n",
       "<style scoped>\n",
       "    .dataframe tbody tr th:only-of-type {\n",
       "        vertical-align: middle;\n",
       "    }\n",
       "\n",
       "    .dataframe tbody tr th {\n",
       "        vertical-align: top;\n",
       "    }\n",
       "\n",
       "    .dataframe thead th {\n",
       "        text-align: right;\n",
       "    }\n",
       "</style>\n",
       "<table border=\"1\" class=\"dataframe\">\n",
       "  <thead>\n",
       "    <tr style=\"text-align: right;\">\n",
       "      <th></th>\n",
       "      <th>text</th>\n",
       "      <th>href</th>\n",
       "    </tr>\n",
       "  </thead>\n",
       "  <tbody>\n",
       "    <tr>\n",
       "      <th>0</th>\n",
       "      <td>Go to Customer Portal</td>\n",
       "      <td>https://help.hackerearth.com/success</td>\n",
       "    </tr>\n",
       "    <tr>\n",
       "      <th>58</th>\n",
       "      <td>Support</td>\n",
       "      <td>https://help.hackerearth.com/</td>\n",
       "    </tr>\n",
       "    <tr>\n",
       "      <th>2020</th>\n",
       "      <td>Support</td>\n",
       "      <td>https://help.hackerearth.com/hc/en-us</td>\n",
       "    </tr>\n",
       "    <tr>\n",
       "      <th>2421</th>\n",
       "      <td>Support</td>\n",
       "      <td>https://help.hackerearth.com</td>\n",
       "    </tr>\n",
       "    <tr>\n",
       "      <th>3239</th>\n",
       "      <td>help page</td>\n",
       "      <td>https://help.hackerearth.com/</td>\n",
       "    </tr>\n",
       "    <tr>\n",
       "      <th>4367</th>\n",
       "      <td>Learn more about current plans and usage</td>\n",
       "      <td>https://help.hackerearth.com/hc/en-us/articles...</td>\n",
       "    </tr>\n",
       "  </tbody>\n",
       "</table>\n",
       "</div>"
      ],
      "text/plain": [
       "                                          text  \\\n",
       "0                        Go to Customer Portal   \n",
       "58                                     Support   \n",
       "2020                                   Support   \n",
       "2421                                   Support   \n",
       "3239                                 help page   \n",
       "4367  Learn more about current plans and usage   \n",
       "\n",
       "                                                   href  \n",
       "0                  https://help.hackerearth.com/success  \n",
       "58                        https://help.hackerearth.com/  \n",
       "2020              https://help.hackerearth.com/hc/en-us  \n",
       "2421                       https://help.hackerearth.com  \n",
       "3239                      https://help.hackerearth.com/  \n",
       "4367  https://help.hackerearth.com/hc/en-us/articles...  "
      ]
     },
     "execution_count": 9,
     "metadata": {},
     "output_type": "execute_result"
    }
   ],
   "source": [
    "url = html_pages[html_pages.href.str.contains(\"help.hackerearth\")]\n",
    "url"
   ]
  },
  {
   "cell_type": "code",
   "execution_count": 36,
   "metadata": {},
   "outputs": [],
   "source": [
    "def extract_headings_paragraphs(url, output_file):\n",
    "    \"\"\"Scrapes a webpage and saves the content to a text file.\n",
    "\n",
    "    Args:\n",
    "      url: The URL of the webpage to scrape.\n",
    "      output_file: The path to the output text file.\n",
    "    \"\"\"\n",
    "\n",
    "    response = requests.get(url)\n",
    "    soup = BeautifulSoup(response.content, \"html.parser\")\n",
    "\n",
    "    text_content = \"\"\n",
    "    for element in soup.find_all([\"h1\", \"h2\", \"h3\", \"h4\", \"h5\", \"h6\", \"p\", \"li\"]):\n",
    "        text_content += element.text + \"\\n\"\n",
    "\n",
    "    with open(output_file, \"w\", encoding=\"utf-8\") as f:\n",
    "        f.write(text_content)"
   ]
  },
  {
   "cell_type": "code",
   "execution_count": 38,
   "metadata": {},
   "outputs": [],
   "source": [
    "url = \"https://help.hackerearth.com/hc/en-us/articles/360003266273-overview\"\n",
    "output_file = \"input_data/overview.text\"\n",
    "\n",
    "extract_headings_paragraphs(url, output_file)"
   ]
  },
  {
   "cell_type": "code",
   "execution_count": null,
   "metadata": {},
   "outputs": [],
   "source": []
  }
 ],
 "metadata": {
  "kernelspec": {
   "display_name": "meaku",
   "language": "python",
   "name": "python3"
  },
  "language_info": {
   "codemirror_mode": {
    "name": "ipython",
    "version": 3
   },
   "file_extension": ".py",
   "mimetype": "text/x-python",
   "name": "python",
   "nbconvert_exporter": "python",
   "pygments_lexer": "ipython3",
   "version": "3.9.6"
  }
 },
 "nbformat": 4,
 "nbformat_minor": 2
}
